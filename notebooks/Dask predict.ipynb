{
 "cells": [
  {
   "cell_type": "markdown",
   "id": "2234ce0a",
   "metadata": {},
   "source": [
    "# Dask predict"
   ]
  },
  {
   "cell_type": "code",
   "execution_count": 3,
   "id": "de9e6a0f",
   "metadata": {},
   "outputs": [],
   "source": [
    "import os\n",
    "import sys\n",
    "\n",
    "path = os.path.abspath('..')\n",
    "sys.path.append(path)"
   ]
  },
  {
   "cell_type": "markdown",
   "id": "0d21ed9a",
   "metadata": {},
   "source": [
    "## Setup Dask Client"
   ]
  },
  {
   "cell_type": "code",
   "execution_count": 4,
   "id": "dc1b9def",
   "metadata": {},
   "outputs": [],
   "source": [
    "import dask.dataframe as dd\n",
    "import pandas as pd\n",
    "\n",
    "from dask.distributed import Client\n",
    "from tqdm import tqdm\n",
    "\n",
    "from modeling import sentiment_model"
   ]
  },
  {
   "cell_type": "code",
   "execution_count": 5,
   "id": "bfb09868",
   "metadata": {},
   "outputs": [
    {
     "name": "stderr",
     "output_type": "stream",
     "text": [
      "distributed.diskutils - INFO - Found stale lock file and directory '/Users/ep67xw/Desktop/Casa/KlarnaAPI/notebooks/dask-worker-space/worker-qvhe8sfv', purging\n",
      "distributed.diskutils - INFO - Found stale lock file and directory '/Users/ep67xw/Desktop/Casa/KlarnaAPI/notebooks/dask-worker-space/worker-j75hq1z7', purging\n",
      "distributed.diskutils - INFO - Found stale lock file and directory '/Users/ep67xw/Desktop/Casa/KlarnaAPI/notebooks/dask-worker-space/worker-70btql72', purging\n"
     ]
    },
    {
     "data": {
      "text/html": [
       "<div>\n",
       "    <div style=\"width: 24px; height: 24px; background-color: #e1e1e1; border: 3px solid #9D9D9D; border-radius: 5px; position: absolute;\"> </div>\n",
       "    <div style=\"margin-left: 48px;\">\n",
       "        <h3 style=\"margin-bottom: 0px;\">Client</h3>\n",
       "        <p style=\"color: #9D9D9D; margin-bottom: 0px;\">Client-b52f6ffe-61f3-11ec-96c3-645aedeac9df</p>\n",
       "        <table style=\"width: 100%; text-align: left;\">\n",
       "\n",
       "        <tr>\n",
       "        \n",
       "            <td style=\"text-align: left;\"><strong>Connection method:</strong> Cluster object</td>\n",
       "            <td style=\"text-align: left;\"><strong>Cluster type:</strong> distributed.LocalCluster</td>\n",
       "        \n",
       "        </tr>\n",
       "\n",
       "        \n",
       "            <tr>\n",
       "                <td style=\"text-align: left;\">\n",
       "                    <strong>Dashboard: </strong> <a href=\"http://127.0.0.1:8787/status\" target=\"_blank\">http://127.0.0.1:8787/status</a>\n",
       "                </td>\n",
       "                <td style=\"text-align: left;\"></td>\n",
       "            </tr>\n",
       "        \n",
       "\n",
       "        </table>\n",
       "\n",
       "        \n",
       "            <details>\n",
       "            <summary style=\"margin-bottom: 20px;\"><h3 style=\"display: inline;\">Cluster Info</h3></summary>\n",
       "            <div class=\"jp-RenderedHTMLCommon jp-RenderedHTML jp-mod-trusted jp-OutputArea-output\">\n",
       "    <div style=\"width: 24px; height: 24px; background-color: #e1e1e1; border: 3px solid #9D9D9D; border-radius: 5px; position: absolute;\">\n",
       "    </div>\n",
       "    <div style=\"margin-left: 48px;\">\n",
       "        <h3 style=\"margin-bottom: 0px; margin-top: 0px;\">LocalCluster</h3>\n",
       "        <p style=\"color: #9D9D9D; margin-bottom: 0px;\">a4a4e1da</p>\n",
       "        <table style=\"width: 100%; text-align: left;\">\n",
       "            <tr>\n",
       "                <td style=\"text-align: left;\">\n",
       "                    <strong>Dashboard:</strong> <a href=\"http://127.0.0.1:8787/status\" target=\"_blank\">http://127.0.0.1:8787/status</a>\n",
       "                </td>\n",
       "                <td style=\"text-align: left;\">\n",
       "                    <strong>Workers:</strong> 4\n",
       "                </td>\n",
       "            </tr>\n",
       "            <tr>\n",
       "                <td style=\"text-align: left;\">\n",
       "                    <strong>Total threads:</strong> 16\n",
       "                </td>\n",
       "                <td style=\"text-align: left;\">\n",
       "                    <strong>Total memory:</strong> 14.90 GiB\n",
       "                </td>\n",
       "            </tr>\n",
       "            \n",
       "            <tr>\n",
       "    <td style=\"text-align: left;\"><strong>Status:</strong> running</td>\n",
       "    <td style=\"text-align: left;\"><strong>Using processes:</strong> True</td>\n",
       "</tr>\n",
       "\n",
       "            \n",
       "        </table>\n",
       "\n",
       "        <details>\n",
       "            <summary style=\"margin-bottom: 20px;\">\n",
       "                <h3 style=\"display: inline;\">Scheduler Info</h3>\n",
       "            </summary>\n",
       "\n",
       "            <div style=\"\">\n",
       "    <div>\n",
       "        <div style=\"width: 24px; height: 24px; background-color: #FFF7E5; border: 3px solid #FF6132; border-radius: 5px; position: absolute;\"> </div>\n",
       "        <div style=\"margin-left: 48px;\">\n",
       "            <h3 style=\"margin-bottom: 0px;\">Scheduler</h3>\n",
       "            <p style=\"color: #9D9D9D; margin-bottom: 0px;\">Scheduler-86cf84fd-0d99-480e-841a-1e4064c8bb84</p>\n",
       "            <table style=\"width: 100%; text-align: left;\">\n",
       "                <tr>\n",
       "                    <td style=\"text-align: left;\">\n",
       "                        <strong>Comm:</strong> tcp://127.0.0.1:53884\n",
       "                    </td>\n",
       "                    <td style=\"text-align: left;\">\n",
       "                        <strong>Workers:</strong> 4\n",
       "                    </td>\n",
       "                </tr>\n",
       "                <tr>\n",
       "                    <td style=\"text-align: left;\">\n",
       "                        <strong>Dashboard:</strong> <a href=\"http://127.0.0.1:8787/status\" target=\"_blank\">http://127.0.0.1:8787/status</a>\n",
       "                    </td>\n",
       "                    <td style=\"text-align: left;\">\n",
       "                        <strong>Total threads:</strong> 16\n",
       "                    </td>\n",
       "                </tr>\n",
       "                <tr>\n",
       "                    <td style=\"text-align: left;\">\n",
       "                        <strong>Started:</strong> Just now\n",
       "                    </td>\n",
       "                    <td style=\"text-align: left;\">\n",
       "                        <strong>Total memory:</strong> 14.90 GiB\n",
       "                    </td>\n",
       "                </tr>\n",
       "            </table>\n",
       "        </div>\n",
       "    </div>\n",
       "\n",
       "    <details style=\"margin-left: 48px;\">\n",
       "        <summary style=\"margin-bottom: 20px;\">\n",
       "            <h3 style=\"display: inline;\">Workers</h3>\n",
       "        </summary>\n",
       "\n",
       "        \n",
       "        <div style=\"margin-bottom: 20px;\">\n",
       "            <div style=\"width: 24px; height: 24px; background-color: #DBF5FF; border: 3px solid #4CC9FF; border-radius: 5px; position: absolute;\"> </div>\n",
       "            <div style=\"margin-left: 48px;\">\n",
       "            <details>\n",
       "                <summary>\n",
       "                    <h4 style=\"margin-bottom: 0px; display: inline;\">Worker: 0</h4>\n",
       "                </summary>\n",
       "                <table style=\"width: 100%; text-align: left;\">\n",
       "                    <tr>\n",
       "                        <td style=\"text-align: left;\">\n",
       "                            <strong>Comm: </strong> tcp://127.0.0.1:53989\n",
       "                        </td>\n",
       "                        <td style=\"text-align: left;\">\n",
       "                            <strong>Total threads: </strong> 4\n",
       "                        </td>\n",
       "                    </tr>\n",
       "                    <tr>\n",
       "                        <td style=\"text-align: left;\">\n",
       "                            <strong>Dashboard: </strong> <a href=\"http://127.0.0.1:54002/status\" target=\"_blank\">http://127.0.0.1:54002/status</a>\n",
       "                        </td>\n",
       "                        <td style=\"text-align: left;\">\n",
       "                            <strong>Memory: </strong> 3.73 GiB\n",
       "                        </td>\n",
       "                    </tr>\n",
       "                    <tr>\n",
       "                        <td style=\"text-align: left;\">\n",
       "                            <strong>Nanny: </strong> tcp://127.0.0.1:53887\n",
       "                        </td>\n",
       "                        <td style=\"text-align: left;\"></td>\n",
       "                    </tr>\n",
       "                    <tr>\n",
       "                        <td colspan=\"2\" style=\"text-align: left;\">\n",
       "                            <strong>Local directory: </strong> /Users/ep67xw/Desktop/Casa/KlarnaAPI/notebooks/dask-worker-space/worker-wgfxnjt5\n",
       "                        </td>\n",
       "                    </tr>\n",
       "\n",
       "                    \n",
       "\n",
       "                    \n",
       "\n",
       "                </table>\n",
       "            </details>\n",
       "            </div>\n",
       "        </div>\n",
       "        \n",
       "        <div style=\"margin-bottom: 20px;\">\n",
       "            <div style=\"width: 24px; height: 24px; background-color: #DBF5FF; border: 3px solid #4CC9FF; border-radius: 5px; position: absolute;\"> </div>\n",
       "            <div style=\"margin-left: 48px;\">\n",
       "            <details>\n",
       "                <summary>\n",
       "                    <h4 style=\"margin-bottom: 0px; display: inline;\">Worker: 1</h4>\n",
       "                </summary>\n",
       "                <table style=\"width: 100%; text-align: left;\">\n",
       "                    <tr>\n",
       "                        <td style=\"text-align: left;\">\n",
       "                            <strong>Comm: </strong> tcp://127.0.0.1:53992\n",
       "                        </td>\n",
       "                        <td style=\"text-align: left;\">\n",
       "                            <strong>Total threads: </strong> 4\n",
       "                        </td>\n",
       "                    </tr>\n",
       "                    <tr>\n",
       "                        <td style=\"text-align: left;\">\n",
       "                            <strong>Dashboard: </strong> <a href=\"http://127.0.0.1:54000/status\" target=\"_blank\">http://127.0.0.1:54000/status</a>\n",
       "                        </td>\n",
       "                        <td style=\"text-align: left;\">\n",
       "                            <strong>Memory: </strong> 3.73 GiB\n",
       "                        </td>\n",
       "                    </tr>\n",
       "                    <tr>\n",
       "                        <td style=\"text-align: left;\">\n",
       "                            <strong>Nanny: </strong> tcp://127.0.0.1:53888\n",
       "                        </td>\n",
       "                        <td style=\"text-align: left;\"></td>\n",
       "                    </tr>\n",
       "                    <tr>\n",
       "                        <td colspan=\"2\" style=\"text-align: left;\">\n",
       "                            <strong>Local directory: </strong> /Users/ep67xw/Desktop/Casa/KlarnaAPI/notebooks/dask-worker-space/worker-frqzoxej\n",
       "                        </td>\n",
       "                    </tr>\n",
       "\n",
       "                    \n",
       "\n",
       "                    \n",
       "\n",
       "                </table>\n",
       "            </details>\n",
       "            </div>\n",
       "        </div>\n",
       "        \n",
       "        <div style=\"margin-bottom: 20px;\">\n",
       "            <div style=\"width: 24px; height: 24px; background-color: #DBF5FF; border: 3px solid #4CC9FF; border-radius: 5px; position: absolute;\"> </div>\n",
       "            <div style=\"margin-left: 48px;\">\n",
       "            <details>\n",
       "                <summary>\n",
       "                    <h4 style=\"margin-bottom: 0px; display: inline;\">Worker: 2</h4>\n",
       "                </summary>\n",
       "                <table style=\"width: 100%; text-align: left;\">\n",
       "                    <tr>\n",
       "                        <td style=\"text-align: left;\">\n",
       "                            <strong>Comm: </strong> tcp://127.0.0.1:53990\n",
       "                        </td>\n",
       "                        <td style=\"text-align: left;\">\n",
       "                            <strong>Total threads: </strong> 4\n",
       "                        </td>\n",
       "                    </tr>\n",
       "                    <tr>\n",
       "                        <td style=\"text-align: left;\">\n",
       "                            <strong>Dashboard: </strong> <a href=\"http://127.0.0.1:53997/status\" target=\"_blank\">http://127.0.0.1:53997/status</a>\n",
       "                        </td>\n",
       "                        <td style=\"text-align: left;\">\n",
       "                            <strong>Memory: </strong> 3.73 GiB\n",
       "                        </td>\n",
       "                    </tr>\n",
       "                    <tr>\n",
       "                        <td style=\"text-align: left;\">\n",
       "                            <strong>Nanny: </strong> tcp://127.0.0.1:53890\n",
       "                        </td>\n",
       "                        <td style=\"text-align: left;\"></td>\n",
       "                    </tr>\n",
       "                    <tr>\n",
       "                        <td colspan=\"2\" style=\"text-align: left;\">\n",
       "                            <strong>Local directory: </strong> /Users/ep67xw/Desktop/Casa/KlarnaAPI/notebooks/dask-worker-space/worker-ah__vhef\n",
       "                        </td>\n",
       "                    </tr>\n",
       "\n",
       "                    \n",
       "\n",
       "                    \n",
       "\n",
       "                </table>\n",
       "            </details>\n",
       "            </div>\n",
       "        </div>\n",
       "        \n",
       "        <div style=\"margin-bottom: 20px;\">\n",
       "            <div style=\"width: 24px; height: 24px; background-color: #DBF5FF; border: 3px solid #4CC9FF; border-radius: 5px; position: absolute;\"> </div>\n",
       "            <div style=\"margin-left: 48px;\">\n",
       "            <details>\n",
       "                <summary>\n",
       "                    <h4 style=\"margin-bottom: 0px; display: inline;\">Worker: 3</h4>\n",
       "                </summary>\n",
       "                <table style=\"width: 100%; text-align: left;\">\n",
       "                    <tr>\n",
       "                        <td style=\"text-align: left;\">\n",
       "                            <strong>Comm: </strong> tcp://127.0.0.1:53991\n",
       "                        </td>\n",
       "                        <td style=\"text-align: left;\">\n",
       "                            <strong>Total threads: </strong> 4\n",
       "                        </td>\n",
       "                    </tr>\n",
       "                    <tr>\n",
       "                        <td style=\"text-align: left;\">\n",
       "                            <strong>Dashboard: </strong> <a href=\"http://127.0.0.1:53996/status\" target=\"_blank\">http://127.0.0.1:53996/status</a>\n",
       "                        </td>\n",
       "                        <td style=\"text-align: left;\">\n",
       "                            <strong>Memory: </strong> 3.73 GiB\n",
       "                        </td>\n",
       "                    </tr>\n",
       "                    <tr>\n",
       "                        <td style=\"text-align: left;\">\n",
       "                            <strong>Nanny: </strong> tcp://127.0.0.1:53889\n",
       "                        </td>\n",
       "                        <td style=\"text-align: left;\"></td>\n",
       "                    </tr>\n",
       "                    <tr>\n",
       "                        <td colspan=\"2\" style=\"text-align: left;\">\n",
       "                            <strong>Local directory: </strong> /Users/ep67xw/Desktop/Casa/KlarnaAPI/notebooks/dask-worker-space/worker-1vtl1ebp\n",
       "                        </td>\n",
       "                    </tr>\n",
       "\n",
       "                    \n",
       "\n",
       "                    \n",
       "\n",
       "                </table>\n",
       "            </details>\n",
       "            </div>\n",
       "        </div>\n",
       "        \n",
       "\n",
       "    </details>\n",
       "</div>\n",
       "\n",
       "        </details>\n",
       "    </div>\n",
       "</div>\n",
       "            </details>\n",
       "        \n",
       "\n",
       "    </div>\n",
       "</div>"
      ],
      "text/plain": [
       "<Client: 'tcp://127.0.0.1:53884' processes=4 threads=16, memory=14.90 GiB>"
      ]
     },
     "execution_count": 5,
     "metadata": {},
     "output_type": "execute_result"
    }
   ],
   "source": [
    "client = Client(n_workers=4, threads_per_worker=4, processes=True, memory_limit='4GB')\n",
    "client"
   ]
  },
  {
   "cell_type": "markdown",
   "id": "0c720ce8",
   "metadata": {},
   "source": [
    "## Compute model predictions"
   ]
  },
  {
   "cell_type": "code",
   "execution_count": 6,
   "id": "9d45a5e5",
   "metadata": {},
   "outputs": [],
   "source": [
    "def get_preds(df_text):\n",
    "    probs = sentiment_model.get_prediction_probs(df_text['text'])\n",
    "    df_text['pred'] = [p['pos'] for p in probs]\n",
    "    return df_text"
   ]
  },
  {
   "cell_type": "code",
   "execution_count": 7,
   "id": "2a7fa761",
   "metadata": {},
   "outputs": [],
   "source": [
    "meta = pd.DataFrame({'text': ['foo'], 'pred': [1.0]})\n",
    "df = pd.read_csv('./data/combined.csv', usecols=['text'], lineterminator='\\n')\n",
    "ddf = dd.from_pandas(df, chunksize=10**5).fillna('')"
   ]
  },
  {
   "cell_type": "code",
   "execution_count": 8,
   "id": "ef5a46db",
   "metadata": {
    "scrolled": true
   },
   "outputs": [
    {
     "name": "stderr",
     "output_type": "stream",
     "text": [
      "/Users/ep67xw/opt/anaconda3/envs/casa/lib/python3.9/site-packages/sklearn/feature_extraction/text.py:1322: UserWarning: Upper case characters found in vocabulary while 'lowercase' is True. These entries will not be matched with any documents\n",
      "  warnings.warn(\n",
      "/Users/ep67xw/opt/anaconda3/envs/casa/lib/python3.9/site-packages/sklearn/feature_extraction/text.py:1322: UserWarning: Upper case characters found in vocabulary while 'lowercase' is True. These entries will not be matched with any documents\n",
      "  warnings.warn(\n",
      "/Users/ep67xw/opt/anaconda3/envs/casa/lib/python3.9/site-packages/sklearn/feature_extraction/text.py:1322: UserWarning: Upper case characters found in vocabulary while 'lowercase' is True. These entries will not be matched with any documents\n",
      "  warnings.warn(\n",
      "/Users/ep67xw/opt/anaconda3/envs/casa/lib/python3.9/site-packages/sklearn/feature_extraction/text.py:1322: UserWarning: Upper case characters found in vocabulary while 'lowercase' is True. These entries will not be matched with any documents\n",
      "  warnings.warn(\n"
     ]
    },
    {
     "data": {
      "text/plain": [
       "['/Users/ep67xw/Desktop/Casa/KlarnaAPI/notebooks/./data/predictions2/predictions-00.csv',\n",
       " '/Users/ep67xw/Desktop/Casa/KlarnaAPI/notebooks/./data/predictions2/predictions-01.csv',\n",
       " '/Users/ep67xw/Desktop/Casa/KlarnaAPI/notebooks/./data/predictions2/predictions-02.csv',\n",
       " '/Users/ep67xw/Desktop/Casa/KlarnaAPI/notebooks/./data/predictions2/predictions-03.csv',\n",
       " '/Users/ep67xw/Desktop/Casa/KlarnaAPI/notebooks/./data/predictions2/predictions-04.csv',\n",
       " '/Users/ep67xw/Desktop/Casa/KlarnaAPI/notebooks/./data/predictions2/predictions-05.csv',\n",
       " '/Users/ep67xw/Desktop/Casa/KlarnaAPI/notebooks/./data/predictions2/predictions-06.csv',\n",
       " '/Users/ep67xw/Desktop/Casa/KlarnaAPI/notebooks/./data/predictions2/predictions-07.csv',\n",
       " '/Users/ep67xw/Desktop/Casa/KlarnaAPI/notebooks/./data/predictions2/predictions-08.csv',\n",
       " '/Users/ep67xw/Desktop/Casa/KlarnaAPI/notebooks/./data/predictions2/predictions-09.csv',\n",
       " '/Users/ep67xw/Desktop/Casa/KlarnaAPI/notebooks/./data/predictions2/predictions-10.csv',\n",
       " '/Users/ep67xw/Desktop/Casa/KlarnaAPI/notebooks/./data/predictions2/predictions-11.csv',\n",
       " '/Users/ep67xw/Desktop/Casa/KlarnaAPI/notebooks/./data/predictions2/predictions-12.csv',\n",
       " '/Users/ep67xw/Desktop/Casa/KlarnaAPI/notebooks/./data/predictions2/predictions-13.csv',\n",
       " '/Users/ep67xw/Desktop/Casa/KlarnaAPI/notebooks/./data/predictions2/predictions-14.csv',\n",
       " '/Users/ep67xw/Desktop/Casa/KlarnaAPI/notebooks/./data/predictions2/predictions-15.csv',\n",
       " '/Users/ep67xw/Desktop/Casa/KlarnaAPI/notebooks/./data/predictions2/predictions-16.csv',\n",
       " '/Users/ep67xw/Desktop/Casa/KlarnaAPI/notebooks/./data/predictions2/predictions-17.csv',\n",
       " '/Users/ep67xw/Desktop/Casa/KlarnaAPI/notebooks/./data/predictions2/predictions-18.csv',\n",
       " '/Users/ep67xw/Desktop/Casa/KlarnaAPI/notebooks/./data/predictions2/predictions-19.csv',\n",
       " '/Users/ep67xw/Desktop/Casa/KlarnaAPI/notebooks/./data/predictions2/predictions-20.csv',\n",
       " '/Users/ep67xw/Desktop/Casa/KlarnaAPI/notebooks/./data/predictions2/predictions-21.csv',\n",
       " '/Users/ep67xw/Desktop/Casa/KlarnaAPI/notebooks/./data/predictions2/predictions-22.csv',\n",
       " '/Users/ep67xw/Desktop/Casa/KlarnaAPI/notebooks/./data/predictions2/predictions-23.csv',\n",
       " '/Users/ep67xw/Desktop/Casa/KlarnaAPI/notebooks/./data/predictions2/predictions-24.csv',\n",
       " '/Users/ep67xw/Desktop/Casa/KlarnaAPI/notebooks/./data/predictions2/predictions-25.csv',\n",
       " '/Users/ep67xw/Desktop/Casa/KlarnaAPI/notebooks/./data/predictions2/predictions-26.csv',\n",
       " '/Users/ep67xw/Desktop/Casa/KlarnaAPI/notebooks/./data/predictions2/predictions-27.csv',\n",
       " '/Users/ep67xw/Desktop/Casa/KlarnaAPI/notebooks/./data/predictions2/predictions-28.csv',\n",
       " '/Users/ep67xw/Desktop/Casa/KlarnaAPI/notebooks/./data/predictions2/predictions-29.csv',\n",
       " '/Users/ep67xw/Desktop/Casa/KlarnaAPI/notebooks/./data/predictions2/predictions-30.csv',\n",
       " '/Users/ep67xw/Desktop/Casa/KlarnaAPI/notebooks/./data/predictions2/predictions-31.csv',\n",
       " '/Users/ep67xw/Desktop/Casa/KlarnaAPI/notebooks/./data/predictions2/predictions-32.csv',\n",
       " '/Users/ep67xw/Desktop/Casa/KlarnaAPI/notebooks/./data/predictions2/predictions-33.csv',\n",
       " '/Users/ep67xw/Desktop/Casa/KlarnaAPI/notebooks/./data/predictions2/predictions-34.csv',\n",
       " '/Users/ep67xw/Desktop/Casa/KlarnaAPI/notebooks/./data/predictions2/predictions-35.csv',\n",
       " '/Users/ep67xw/Desktop/Casa/KlarnaAPI/notebooks/./data/predictions2/predictions-36.csv',\n",
       " '/Users/ep67xw/Desktop/Casa/KlarnaAPI/notebooks/./data/predictions2/predictions-37.csv',\n",
       " '/Users/ep67xw/Desktop/Casa/KlarnaAPI/notebooks/./data/predictions2/predictions-38.csv',\n",
       " '/Users/ep67xw/Desktop/Casa/KlarnaAPI/notebooks/./data/predictions2/predictions-39.csv']"
      ]
     },
     "execution_count": 8,
     "metadata": {},
     "output_type": "execute_result"
    }
   ],
   "source": [
    "ddf.map_partitions(get_preds, meta=meta).to_csv('./data/predictions2/predictions-*.csv')  "
   ]
  },
  {
   "cell_type": "code",
   "execution_count": 9,
   "id": "6668a708",
   "metadata": {},
   "outputs": [
    {
     "name": "stderr",
     "output_type": "stream",
     "text": [
      "100%|███████████████████████████████████████████| 40/40 [00:10<00:00,  3.75it/s]\n"
     ]
    }
   ],
   "source": [
    "import glob\n",
    "\n",
    "from os.path import dirname, abspath\n",
    "\n",
    "repo_path = dirname(os.getcwd())\n",
    "path = repo_path + '/notebooks/data/predictions2'\n",
    "all_files = glob.glob(path + \"/*.csv\")\n",
    "\n",
    "li = []\n",
    "\n",
    "for filename in tqdm(sorted(all_files)):\n",
    "    df = pd.read_csv(filename, index_col=0, header=0, lineterminator='\\n')\n",
    "    li.append(df)\n",
    "\n",
    "df_pred = pd.concat(li, axis=0, ignore_index=True)"
   ]
  },
  {
   "cell_type": "code",
   "execution_count": 18,
   "id": "71c9bc17",
   "metadata": {
    "collapsed": true
   },
   "outputs": [
    {
     "ename": "TypeError",
     "evalue": "to_csv() got an unexpected keyword argument 'lineterminator'",
     "output_type": "error",
     "traceback": [
      "\u001b[0;31m---------------------------------------------------------------------------\u001b[0m",
      "\u001b[0;31mTypeError\u001b[0m                                 Traceback (most recent call last)",
      "\u001b[0;32m/var/folders/r5/lgyf9b6s4gj_8jm3y9jkbf6c0000gn/T/ipykernel_22211/1648990761.py\u001b[0m in \u001b[0;36m<module>\u001b[0;34m\u001b[0m\n\u001b[0;32m----> 1\u001b[0;31m \u001b[0mdf_pred\u001b[0m\u001b[0;34m.\u001b[0m\u001b[0mto_csv\u001b[0m\u001b[0;34m(\u001b[0m\u001b[0;34m'./data/predictions2/predictions.csv'\u001b[0m\u001b[0;34m,\u001b[0m \u001b[0mlineterminator\u001b[0m\u001b[0;34m=\u001b[0m\u001b[0;34m'\\n'\u001b[0m\u001b[0;34m)\u001b[0m\u001b[0;34m\u001b[0m\u001b[0;34m\u001b[0m\u001b[0m\n\u001b[0m",
      "\u001b[0;31mTypeError\u001b[0m: to_csv() got an unexpected keyword argument 'lineterminator'"
     ]
    }
   ],
   "source": [
    "df_pred.to_csv('./data/predictions2/predictions.csv')"
   ]
  },
  {
   "cell_type": "code",
   "execution_count": 19,
   "id": "f74c8507",
   "metadata": {},
   "outputs": [],
   "source": [
    "df_pred = pd.read_csv('./data/predictions1/predictions1.csv', lineterminator='\\n')"
   ]
  },
  {
   "cell_type": "code",
   "execution_count": 20,
   "id": "3869ddbc",
   "metadata": {},
   "outputs": [
    {
     "data": {
      "text/plain": [
       "(4000000, 3)"
      ]
     },
     "execution_count": 20,
     "metadata": {},
     "output_type": "execute_result"
    }
   ],
   "source": [
    "df_pred.shape"
   ]
  },
  {
   "cell_type": "markdown",
   "id": "753b624d",
   "metadata": {},
   "source": [
    "## Model performance for both positive and negative sentiment on 4M dataset\n",
    "Note: the model is trained on a random 20% of this data!"
   ]
  },
  {
   "cell_type": "code",
   "execution_count": 11,
   "id": "f8d5e025",
   "metadata": {},
   "outputs": [],
   "source": [
    "import numpy as np\n",
    "\n",
    "from sklearn.metrics import f1_score, precision_score, accuracy_score, recall_score"
   ]
  },
  {
   "cell_type": "code",
   "execution_count": 21,
   "id": "d3a97889",
   "metadata": {},
   "outputs": [],
   "source": [
    "y_true = (df_pred.index > 2000000).astype(int)"
   ]
  },
  {
   "cell_type": "code",
   "execution_count": 22,
   "id": "3b0662c9",
   "metadata": {},
   "outputs": [],
   "source": [
    "f1 = []\n",
    "accuracy = []\n",
    "precision = []\n",
    "recall = []\n",
    "\n",
    "for t in np.arange(0, 1, 0.05):\n",
    "    y_pred = (df_pred['pred'] > t).astype(int)\n",
    "    \n",
    "    # Scores\n",
    "    f1.append(f1_score(y_true, y_pred))\n",
    "    accuracy.append(accuracy_score(y_true, y_pred))\n",
    "    precision.append(precision_score(y_true, y_pred))\n",
    "    recall.append(recall_score(y_true, y_pred))"
   ]
  },
  {
   "cell_type": "code",
   "execution_count": 23,
   "id": "ed6ebb61",
   "metadata": {},
   "outputs": [],
   "source": [
    "df_scores = pd.DataFrame({\n",
    "    'threshold': np.arange(0, 1, 0.05),\n",
    "    'f1': f1,\n",
    "    'accuracy': accuracy,\n",
    "    'precision': precision,\n",
    "    'recall': recall,\n",
    "})"
   ]
  },
  {
   "cell_type": "code",
   "execution_count": 24,
   "id": "11e0833f",
   "metadata": {},
   "outputs": [
    {
     "data": {
      "image/png": "[encoded data removed]",
      "text/plain": [
       "<Figure size 576x432 with 1 Axes>"
      ]
     },
     "metadata": {
      "needs_background": "light"
     },
     "output_type": "display_data"
    }
   ],
   "source": [
    "ax = df_scores.set_index('threshold').plot(figsize=(8, 6));\n",
    "ax.grid(True);\n",
    "ax.set_title(\"Model performance on 4M dataset for different thresholds\");"
   ]
  }
 ],
 "metadata": {
  "kernelspec": {
   "display_name": "Python 3 (ipykernel)",
   "language": "python",
   "name": "python3"
  },
  "language_info": {
   "codemirror_mode": {
    "name": "ipython",
    "version": 3
   },
   "file_extension": ".py",
   "mimetype": "text/x-python",
   "name": "python",
   "nbconvert_exporter": "python",
   "pygments_lexer": "ipython3",
   "version": "3.9.7"
  },
  "toc": {
   "base_numbering": 1,
   "nav_menu": {},
   "number_sections": true,
   "sideBar": true,
   "skip_h1_title": false,
   "title_cell": "Table of Contents",
   "title_sidebar": "Contents",
   "toc_cell": false,
   "toc_position": {},
   "toc_section_display": true,
   "toc_window_display": false
  }
 },
 "nbformat": 4,
 "nbformat_minor": 5
}
