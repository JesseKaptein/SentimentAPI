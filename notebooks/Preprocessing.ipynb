{
 "cells": [
  {
   "cell_type": "markdown",
   "id": "50286ff5",
   "metadata": {},
   "source": [
    "# Casa: Data Exploration"
   ]
  },
  {
   "cell_type": "code",
   "execution_count": 1,
   "id": "7f3547fe",
   "metadata": {},
   "outputs": [],
   "source": [
    "import os\n",
    "import sys\n",
    "\n",
    "path = os.path.abspath('..')\n",
    "sys.path.append(path)"
   ]
  },
  {
   "cell_type": "markdown",
   "id": "826a8388",
   "metadata": {},
   "source": [
    "## Create dataset"
   ]
  },
  {
   "cell_type": "code",
   "execution_count": 2,
   "id": "d7f6f9c6",
   "metadata": {},
   "outputs": [],
   "source": [
    "import pandas as pd\n",
    "import seaborn as sns"
   ]
  },
  {
   "cell_type": "code",
   "execution_count": 3,
   "id": "9c4dfe72",
   "metadata": {},
   "outputs": [],
   "source": [
    "df_neg = pd.read_csv('./data/comments_negative.csv')\n",
    "df_pos = pd.read_csv('./data/comments_positive.csv')\n",
    "\n",
    "df_neg['label'] = 0\n",
    "df_pos['label'] = 1"
   ]
  },
  {
   "cell_type": "code",
   "execution_count": 4,
   "id": "fa694963",
   "metadata": {},
   "outputs": [],
   "source": [
    "df_comments = pd.concat([df_neg[['text', 'label']], df_pos[['text', 'label']]]).reset_index(drop=True)"
   ]
  },
  {
   "cell_type": "code",
   "execution_count": 5,
   "id": "8da32f63",
   "metadata": {},
   "outputs": [],
   "source": [
    "random_state=100"
   ]
  },
  {
   "cell_type": "code",
   "execution_count": 7,
   "id": "b8503efe",
   "metadata": {},
   "outputs": [
    {
     "data": {
      "text/plain": [
       "(4000000, 1)"
      ]
     },
     "execution_count": 7,
     "metadata": {},
     "output_type": "execute_result"
    }
   ],
   "source": [
    "df_comments.shape"
   ]
  },
  {
   "cell_type": "code",
   "execution_count": 6,
   "id": "15749e45",
   "metadata": {},
   "outputs": [],
   "source": [
    "#df_comments = df_comments.sample(frac=0.2, random_state=random_state)"
   ]
  },
  {
   "cell_type": "code",
   "execution_count": 6,
   "id": "fe041f88",
   "metadata": {},
   "outputs": [],
   "source": [
    "df_comments.to_csv('./data/combined.csv', index=True)"
   ]
  },
  {
   "cell_type": "markdown",
   "id": "6df74090",
   "metadata": {},
   "source": [
    "## Preprocessing & simple feature engineering"
   ]
  },
  {
   "cell_type": "code",
   "execution_count": 3,
   "id": "55481d53",
   "metadata": {},
   "outputs": [],
   "source": [
    "from modeling.processing import PreProcessing"
   ]
  },
  {
   "cell_type": "code",
   "execution_count": 9,
   "id": "c6d14d34",
   "metadata": {},
   "outputs": [],
   "source": [
    "from tqdm import tqdm\n",
    "\n",
    "tqdm.pandas()"
   ]
  },
  {
   "cell_type": "code",
   "execution_count": 10,
   "id": "1b2c941f",
   "metadata": {},
   "outputs": [],
   "source": [
    "def preprocess_1(text):\n",
    "    pp = PreProcessing(\n",
    "        text,\n",
    "        lemmatize=False,\n",
    "        remove_stopwords=True,\n",
    "        remove_punctuation=False,\n",
    "        to_lower=False,\n",
    "        remove_numbers=False,\n",
    "        remove_url=True,\n",
    "        min_length=0,\n",
    "        strip_html=True,\n",
    "        tokenize=False\n",
    "    )\n",
    "    return pp.parse()"
   ]
  },
  {
   "cell_type": "code",
   "execution_count": 11,
   "id": "78c865db",
   "metadata": {},
   "outputs": [],
   "source": [
    "def preprocess_2(text):\n",
    "    pp = PreProcessing(\n",
    "        text,\n",
    "        lemmatize=True,\n",
    "        remove_stopwords=False,\n",
    "        remove_punctuation=False,\n",
    "        to_lower=False,\n",
    "        remove_numbers=False,\n",
    "        remove_url=True,\n",
    "        min_length=0,\n",
    "        strip_html=True,\n",
    "        tokenize=False\n",
    "    )\n",
    "    return pp.parse()"
   ]
  },
  {
   "cell_type": "code",
   "execution_count": 12,
   "id": "536c984f",
   "metadata": {},
   "outputs": [],
   "source": [
    "def get_pos_tags(text):\n",
    "    pp = PreProcessing(text)\n",
    "    return pp.get_pos_tags()"
   ]
  },
  {
   "cell_type": "code",
   "execution_count": 13,
   "id": "47b2b7e8",
   "metadata": {},
   "outputs": [],
   "source": [
    "def get_text_list(text):\n",
    "    pp = PreProcessing(text)\n",
    "    return pp.get_text_list()"
   ]
  },
  {
   "cell_type": "code",
   "execution_count": 14,
   "id": "f948c844",
   "metadata": {},
   "outputs": [],
   "source": [
    "# df_comments['text_proces_1'] = df_comments['text'].progress_apply(preprocess_1)\n",
    "# df_comments['text_pos_tags'] = df_comments['text_proces_1'].progress_apply(get_pos_tags)\n",
    "# df_comments['text_tokens_1'] = df_comments['text_proces_1'].progress_apply(get_text_list)\n",
    "# df_comments['text_proces_2'] = df_comments['text_proces_1'].progress_apply(preprocess_2)\n",
    "# df_comments['text_tokens_2'] = df_comments['text_proces_2'].progress_apply(get_text_list)"
   ]
  },
  {
   "cell_type": "markdown",
   "id": "6be56e98",
   "metadata": {},
   "source": [
    "## Get token dict"
   ]
  },
  {
   "cell_type": "code",
   "execution_count": 15,
   "id": "30d0ccb0",
   "metadata": {},
   "outputs": [],
   "source": [
    "def get_token_dict(text):\n",
    "    pp = PreProcessing(text)\n",
    "    return pp.token_dict"
   ]
  },
  {
   "cell_type": "code",
   "execution_count": 16,
   "id": "c9200b57",
   "metadata": {},
   "outputs": [],
   "source": [
    "from tqdm import tqdm\n",
    "\n",
    "tqdm.pandas()"
   ]
  },
  {
   "cell_type": "code",
   "execution_count": 18,
   "id": "292c8d01",
   "metadata": {
    "collapsed": true
   },
   "outputs": [
    {
     "name": "stderr",
     "output_type": "stream",
     "text": [
      " 68%|███████████████████████████████████████████████████████████████████████████████████████████████████████████████████████████████▉                                                           | 2737133/4000000 [8:44:55<3:31:16, 99.62it/s]IOPub data rate exceeded.\n",
      "The notebook server will temporarily stop sending output\n",
      "to the client in order to avoid crashing it.\n",
      "To change this limit, set the config variable\n",
      "`--NotebookApp.iopub_data_rate_limit`.\n",
      "\n",
      "Current values:\n",
      "NotebookApp.iopub_data_rate_limit=1000000.0 (bytes/sec)\n",
      "NotebookApp.rate_limit_window=3.0 (secs)\n",
      "\n",
      " 71%|███████████████████████████████████████████████████████████████████████████████████████████████████████████████████████████████████▋                                                      | 2832699/4000000 [9:01:15<3:11:32, 101.57it/s]IOPub data rate exceeded.\n",
      "The notebook server will temporarily stop sending output\n",
      "to the client in order to avoid crashing it.\n",
      "To change this limit, set the config variable\n",
      "`--NotebookApp.iopub_data_rate_limit`.\n",
      "\n",
      "Current values:\n",
      "NotebookApp.iopub_data_rate_limit=1000000.0 (bytes/sec)\n",
      "NotebookApp.rate_limit_window=3.0 (secs)\n",
      "\n",
      " 73%|████████████████████████████████████████████████████████████████████████████████████████████████████████████████████████████████████████▏                                                 | 2929709/4000000 [9:17:38<2:42:22, 109.86it/s]IOPub data rate exceeded.\n",
      "The notebook server will temporarily stop sending output\n",
      "to the client in order to avoid crashing it.\n",
      "To change this limit, set the config variable\n",
      "`--NotebookApp.iopub_data_rate_limit`.\n",
      "\n",
      "Current values:\n",
      "NotebookApp.iopub_data_rate_limit=1000000.0 (bytes/sec)\n",
      "NotebookApp.rate_limit_window=3.0 (secs)\n",
      "\n",
      " 75%|█████████████████████████████████████████████████████████████████████████████████████████████████████████████████████████████████████████████▏                                             | 3019322/4000000 [9:36:20<2:44:11, 99.54it/s]IOPub data rate exceeded.\n",
      "The notebook server will temporarily stop sending output\n",
      "to the client in order to avoid crashing it.\n",
      "To change this limit, set the config variable\n",
      "`--NotebookApp.iopub_data_rate_limit`.\n",
      "\n",
      "Current values:\n",
      "NotebookApp.iopub_data_rate_limit=1000000.0 (bytes/sec)\n",
      "NotebookApp.rate_limit_window=3.0 (secs)\n",
      "\n",
      " 78%|█████████████████████████████████████████████████████████████████████████████████████████████████████████████████████████████████████████████████▊                                         | 3117898/4000000 [9:53:22<2:31:31, 97.03it/s]IOPub data rate exceeded.\n",
      "The notebook server will temporarily stop sending output\n",
      "to the client in order to avoid crashing it.\n",
      "To change this limit, set the config variable\n",
      "`--NotebookApp.iopub_data_rate_limit`.\n",
      "\n",
      "Current values:\n",
      "NotebookApp.iopub_data_rate_limit=1000000.0 (bytes/sec)\n",
      "NotebookApp.rate_limit_window=3.0 (secs)\n",
      "\n",
      " 80%|████████████████████████████████████████████████████████████████████████████████████████████████████████████████████████████████████████████████████▌                                    | 3212728/4000000 [10:09:34<2:01:40, 107.84it/s]IOPub data rate exceeded.\n",
      "The notebook server will temporarily stop sending output\n",
      "to the client in order to avoid crashing it.\n",
      "To change this limit, set the config variable\n",
      "`--NotebookApp.iopub_data_rate_limit`.\n",
      "\n",
      "Current values:\n",
      "NotebookApp.iopub_data_rate_limit=1000000.0 (bytes/sec)\n",
      "NotebookApp.rate_limit_window=3.0 (secs)\n",
      "\n",
      " 83%|█████████████████████████████████████████████████████████████████████████████████████████████████████████████████████████████████████████████████████████▎                               | 3314551/4000000 [10:26:55<1:52:27, 101.58it/s]IOPub data rate exceeded.\n",
      "The notebook server will temporarily stop sending output\n",
      "to the client in order to avoid crashing it.\n",
      "To change this limit, set the config variable\n",
      "`--NotebookApp.iopub_data_rate_limit`.\n",
      "\n",
      "Current values:\n",
      "NotebookApp.iopub_data_rate_limit=1000000.0 (bytes/sec)\n",
      "NotebookApp.rate_limit_window=3.0 (secs)\n",
      "\n",
      " 85%|██████████████████████████████████████████████████████████████████████████████████████████████████████████████████████████████████████████████████████████████▍                           | 3408551/4000000 [10:47:39<1:50:33, 89.16it/s]IOPub data rate exceeded.\n",
      "The notebook server will temporarily stop sending output\n",
      "to the client in order to avoid crashing it.\n",
      "To change this limit, set the config variable\n",
      "`--NotebookApp.iopub_data_rate_limit`.\n",
      "\n",
      "Current values:\n",
      "NotebookApp.iopub_data_rate_limit=1000000.0 (bytes/sec)\n",
      "NotebookApp.rate_limit_window=3.0 (secs)\n",
      "\n",
      " 88%|███████████████████████████████████████████████████████████████████████████████████████████████████████████████████████████████████████████████████████████████████                       | 3506276/4000000 [11:04:30<1:32:14, 89.21it/s]IOPub data rate exceeded.\n",
      "The notebook server will temporarily stop sending output\n",
      "to the client in order to avoid crashing it.\n",
      "To change this limit, set the config variable\n",
      "`--NotebookApp.iopub_data_rate_limit`.\n",
      "\n",
      "Current values:\n",
      "NotebookApp.iopub_data_rate_limit=1000000.0 (bytes/sec)\n",
      "NotebookApp.rate_limit_window=3.0 (secs)\n",
      "\n",
      " 90%|███████████████████████████████████████████████████████████████████████████████████████████████████████████████████████████████████████████████████████████████████████▏                  | 3596321/4000000 [11:19:49<1:07:53, 99.11it/s]IOPub data rate exceeded.\n",
      "The notebook server will temporarily stop sending output\n",
      "to the client in order to avoid crashing it.\n",
      "To change this limit, set the config variable\n",
      "`--NotebookApp.iopub_data_rate_limit`.\n",
      "\n",
      "Current values:\n",
      "NotebookApp.iopub_data_rate_limit=1000000.0 (bytes/sec)\n",
      "NotebookApp.rate_limit_window=3.0 (secs)\n",
      "\n",
      " 92%|███████████████████████████████████████████████████████████████████████████████████████████████████████████████████████████████████████████████████████████████████████████▍              | 3687984/4000000 [11:35:27<1:01:56, 83.96it/s]IOPub data rate exceeded.\n",
      "The notebook server will temporarily stop sending output\n",
      "to the client in order to avoid crashing it.\n",
      "To change this limit, set the config variable\n",
      "`--NotebookApp.iopub_data_rate_limit`.\n",
      "\n",
      "Current values:\n",
      "NotebookApp.iopub_data_rate_limit=1000000.0 (bytes/sec)\n",
      "NotebookApp.rate_limit_window=3.0 (secs)\n",
      "\n",
      " 95%|█████████████████████████████████████████████████████████████████████████████████████████████████████████████████████████████████████████████████████████████████████████████████▊          | 3783699/4000000 [11:51:50<39:12, 91.94it/s]IOPub data rate exceeded.\n",
      "The notebook server will temporarily stop sending output\n",
      "to the client in order to avoid crashing it.\n",
      "To change this limit, set the config variable\n",
      "`--NotebookApp.iopub_data_rate_limit`.\n",
      "\n",
      "Current values:\n",
      "NotebookApp.iopub_data_rate_limit=1000000.0 (bytes/sec)\n",
      "NotebookApp.rate_limit_window=3.0 (secs)\n",
      "\n",
      " 97%|██████████████████████████████████████████████████████████████████████████████████████████████████████████████████████████████████████████████████████████████████████████████████████▎     | 3879826/4000000 [12:15:02<25:14, 79.33it/s]IOPub data rate exceeded.\n",
      "The notebook server will temporarily stop sending output\n",
      "to the client in order to avoid crashing it.\n",
      "To change this limit, set the config variable\n",
      "`--NotebookApp.iopub_data_rate_limit`.\n",
      "\n",
      "Current values:\n",
      "NotebookApp.iopub_data_rate_limit=1000000.0 (bytes/sec)\n",
      "NotebookApp.rate_limit_window=3.0 (secs)\n",
      "\n",
      " 99%|██████████████████████████████████████████████████████████████████████████████████████████████████████████████████████████████████████████████████████████████████████████████████████████▌ | 3970633/4000000 [12:30:50<04:55, 99.44it/s]IOPub data rate exceeded.\n",
      "The notebook server will temporarily stop sending output\n",
      "to the client in order to avoid crashing it.\n",
      "To change this limit, set the config variable\n",
      "`--NotebookApp.iopub_data_rate_limit`.\n",
      "\n",
      "Current values:\n",
      "NotebookApp.iopub_data_rate_limit=1000000.0 (bytes/sec)\n",
      "NotebookApp.rate_limit_window=3.0 (secs)\n",
      "\n"
     ]
    }
   ],
   "source": [
    "df_comments['token_dict'] = df_comments['text'].progress_apply(get_token_dict)"
   ]
  }
 ],
 "metadata": {
  "kernelspec": {
   "display_name": "Python 3 (ipykernel)",
   "language": "python",
   "name": "python3"
  },
  "language_info": {
   "codemirror_mode": {
    "name": "ipython",
    "version": 3
   },
   "file_extension": ".py",
   "mimetype": "text/x-python",
   "name": "python",
   "nbconvert_exporter": "python",
   "pygments_lexer": "ipython3",
   "version": "3.9.7"
  },
  "toc": {
   "base_numbering": 1,
   "nav_menu": {},
   "number_sections": true,
   "sideBar": true,
   "skip_h1_title": false,
   "title_cell": "Table of Contents",
   "title_sidebar": "Contents",
   "toc_cell": false,
   "toc_position": {},
   "toc_section_display": true,
   "toc_window_display": false
  }
 },
 "nbformat": 4,
 "nbformat_minor": 5
}
